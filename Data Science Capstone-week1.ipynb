{
 "cells": [
  {
   "cell_type": "markdown",
   "metadata": {},
   "source": [
    "# Data Science Capstone Project - The Battle of the Neighborhoods (Week 1)"
   ]
  },
  {
   "cell_type": "markdown",
   "metadata": {},
   "source": [
    "## Table of contents\n",
    "* [Introduction](#introduction)\n",
    "* [Data](#data)\n"
   ]
  },
  {
   "cell_type": "markdown",
   "metadata": {},
   "source": [
    "# Introduction\n",
    "COVID-19 pandemic caused many illness and deaths of human. In the US, the situation is still very bad since the spread is not under control so far. Every state is fighting hard fo the COVID-19 including the tracking and actively testing. \n",
    "\n",
    "In this project, we will follow the active cases daily and total cases for the south cariloina state. The data will be viewed through choropleth map to show the **hotspots** in the state. Then we will recommended  the closest the clinic for the **testing**. Basically, this program can be scalled to small local area or the national level based on the dataset. \n",
    "\n"
   ]
  },
  {
   "cell_type": "markdown",
   "metadata": {},
   "source": [
    "# Data\n",
    "\n",
    "The data will be scraped from [worldometer](https://www.worldometers.info/coronavirus/usa/south-carolina/) into dataframe and cleaned. The data will be categorizied into each county in the state with. The data will be reviewed through choropleth map to find the hotspot.\n",
    "\n",
    "For the hotspot area, Urgent care or pharmacy store will be loacated throught **Foursquare API** to give the reommendation for testing. \n"
   ]
  },
  {
   "cell_type": "code",
   "execution_count": 1,
   "metadata": {},
   "outputs": [],
   "source": [
    "import requests # library to handle requests\n",
    "import pandas as pd # library for data analsysis\n",
    "import numpy as np # library to handle data in a vectorized manner\n",
    "from datetime import date\n"
   ]
  },
  {
   "cell_type": "markdown",
   "metadata": {},
   "source": [
    "### Scape the data from [worldometer](https://www.worldometers.info/coronavirus/usa/south-carolina/) into dataframe"
   ]
  },
  {
   "cell_type": "code",
   "execution_count": 2,
   "metadata": {},
   "outputs": [
    {
     "data": {
      "text/html": [
       "<div>\n",
       "<style scoped>\n",
       "    .dataframe tbody tr th:only-of-type {\n",
       "        vertical-align: middle;\n",
       "    }\n",
       "\n",
       "    .dataframe tbody tr th {\n",
       "        vertical-align: top;\n",
       "    }\n",
       "\n",
       "    .dataframe thead th {\n",
       "        text-align: right;\n",
       "    }\n",
       "</style>\n",
       "<table border=\"1\" class=\"dataframe\">\n",
       "  <thead>\n",
       "    <tr style=\"text-align: right;\">\n",
       "      <th></th>\n",
       "      <th>County</th>\n",
       "      <th>TotalCases</th>\n",
       "      <th>NewCases</th>\n",
       "      <th>TotalDeaths</th>\n",
       "      <th>NewDeaths</th>\n",
       "      <th>ActiveCases</th>\n",
       "      <th>TotalTests</th>\n",
       "      <th>Source</th>\n",
       "    </tr>\n",
       "  </thead>\n",
       "  <tbody>\n",
       "    <tr>\n",
       "      <th>0</th>\n",
       "      <td>South Carolina Total</td>\n",
       "      <td>388184</td>\n",
       "      <td>+5,762</td>\n",
       "      <td>6237</td>\n",
       "      <td>129.0</td>\n",
       "      <td>207241.0</td>\n",
       "      <td>4333455.0</td>\n",
       "      <td>NaN</td>\n",
       "    </tr>\n",
       "    <tr>\n",
       "      <th>1</th>\n",
       "      <td>Greenville</td>\n",
       "      <td>47606</td>\n",
       "      <td>+550</td>\n",
       "      <td>583</td>\n",
       "      <td>11.0</td>\n",
       "      <td>NaN</td>\n",
       "      <td>NaN</td>\n",
       "      <td>[county]* [state]</td>\n",
       "    </tr>\n",
       "    <tr>\n",
       "      <th>2</th>\n",
       "      <td>Richland</td>\n",
       "      <td>28988</td>\n",
       "      <td>+461</td>\n",
       "      <td>350</td>\n",
       "      <td>4.0</td>\n",
       "      <td>NaN</td>\n",
       "      <td>NaN</td>\n",
       "      <td>[county]* [state]</td>\n",
       "    </tr>\n",
       "    <tr>\n",
       "      <th>3</th>\n",
       "      <td>Charleston</td>\n",
       "      <td>24945</td>\n",
       "      <td>+249</td>\n",
       "      <td>316</td>\n",
       "      <td>5.0</td>\n",
       "      <td>NaN</td>\n",
       "      <td>NaN</td>\n",
       "      <td>[county]* [state]</td>\n",
       "    </tr>\n",
       "    <tr>\n",
       "      <th>4</th>\n",
       "      <td>Spartanburg</td>\n",
       "      <td>22861</td>\n",
       "      <td>+246</td>\n",
       "      <td>446</td>\n",
       "      <td>15.0</td>\n",
       "      <td>NaN</td>\n",
       "      <td>NaN</td>\n",
       "      <td>[county]* [state]</td>\n",
       "    </tr>\n",
       "  </tbody>\n",
       "</table>\n",
       "</div>"
      ],
      "text/plain": [
       "                 County  TotalCases NewCases  TotalDeaths  NewDeaths  \\\n",
       "0  South Carolina Total      388184   +5,762         6237      129.0   \n",
       "1            Greenville       47606     +550          583       11.0   \n",
       "2              Richland       28988     +461          350        4.0   \n",
       "3            Charleston       24945     +249          316        5.0   \n",
       "4           Spartanburg       22861     +246          446       15.0   \n",
       "\n",
       "   ActiveCases  TotalTests             Source  \n",
       "0     207241.0   4333455.0                NaN  \n",
       "1          NaN         NaN  [county]* [state]  \n",
       "2          NaN         NaN  [county]* [state]  \n",
       "3          NaN         NaN  [county]* [state]  \n",
       "4          NaN         NaN  [county]* [state]  "
      ]
     },
     "execution_count": 2,
     "metadata": {},
     "output_type": "execute_result"
    }
   ],
   "source": [
    "url='https://www.worldometers.info/coronavirus/usa/south-carolina/'\n",
    "r = requests.get(url)\n",
    "df1 = pd.read_html(r.text) # get the data\n",
    "df1[0].head()"
   ]
  },
  {
   "cell_type": "markdown",
   "metadata": {},
   "source": [
    "### Drop the columns which do not have data and also drop the row 1\n",
    "### Adding the date for the scrape date"
   ]
  },
  {
   "cell_type": "code",
   "execution_count": 3,
   "metadata": {},
   "outputs": [
    {
     "name": "stderr",
     "output_type": "stream",
     "text": [
      "<ipython-input-3-abb3fecb6910>:4: SettingWithCopyWarning: \n",
      "A value is trying to be set on a copy of a slice from a DataFrame.\n",
      "Try using .loc[row_indexer,col_indexer] = value instead\n",
      "\n",
      "See the caveats in the documentation: https://pandas.pydata.org/pandas-docs/stable/user_guide/indexing.html#returning-a-view-versus-a-copy\n",
      "  df['Date'] = date # adding the date column\n"
     ]
    },
    {
     "data": {
      "text/html": [
       "<div>\n",
       "<style scoped>\n",
       "    .dataframe tbody tr th:only-of-type {\n",
       "        vertical-align: middle;\n",
       "    }\n",
       "\n",
       "    .dataframe tbody tr th {\n",
       "        vertical-align: top;\n",
       "    }\n",
       "\n",
       "    .dataframe thead th {\n",
       "        text-align: right;\n",
       "    }\n",
       "</style>\n",
       "<table border=\"1\" class=\"dataframe\">\n",
       "  <thead>\n",
       "    <tr style=\"text-align: right;\">\n",
       "      <th></th>\n",
       "      <th>County</th>\n",
       "      <th>TotalCases</th>\n",
       "      <th>NewCases</th>\n",
       "      <th>TotalDeaths</th>\n",
       "      <th>NewDeaths</th>\n",
       "      <th>Date</th>\n",
       "    </tr>\n",
       "  </thead>\n",
       "  <tbody>\n",
       "    <tr>\n",
       "      <th>1</th>\n",
       "      <td>Greenville</td>\n",
       "      <td>47606</td>\n",
       "      <td>+550</td>\n",
       "      <td>583</td>\n",
       "      <td>11.0</td>\n",
       "      <td>2021-01-17</td>\n",
       "    </tr>\n",
       "    <tr>\n",
       "      <th>2</th>\n",
       "      <td>Richland</td>\n",
       "      <td>28988</td>\n",
       "      <td>+461</td>\n",
       "      <td>350</td>\n",
       "      <td>4.0</td>\n",
       "      <td>2021-01-17</td>\n",
       "    </tr>\n",
       "    <tr>\n",
       "      <th>3</th>\n",
       "      <td>Charleston</td>\n",
       "      <td>24945</td>\n",
       "      <td>+249</td>\n",
       "      <td>316</td>\n",
       "      <td>5.0</td>\n",
       "      <td>2021-01-17</td>\n",
       "    </tr>\n",
       "    <tr>\n",
       "      <th>4</th>\n",
       "      <td>Spartanburg</td>\n",
       "      <td>22861</td>\n",
       "      <td>+246</td>\n",
       "      <td>446</td>\n",
       "      <td>15.0</td>\n",
       "      <td>2021-01-17</td>\n",
       "    </tr>\n",
       "    <tr>\n",
       "      <th>5</th>\n",
       "      <td>Horry</td>\n",
       "      <td>21660</td>\n",
       "      <td>+247</td>\n",
       "      <td>305</td>\n",
       "      <td>10.0</td>\n",
       "      <td>2021-01-17</td>\n",
       "    </tr>\n",
       "  </tbody>\n",
       "</table>\n",
       "</div>"
      ],
      "text/plain": [
       "        County  TotalCases NewCases  TotalDeaths  NewDeaths        Date\n",
       "1   Greenville       47606     +550          583       11.0  2021-01-17\n",
       "2     Richland       28988     +461          350        4.0  2021-01-17\n",
       "3   Charleston       24945     +249          316        5.0  2021-01-17\n",
       "4  Spartanburg       22861     +246          446       15.0  2021-01-17\n",
       "5        Horry       21660     +247          305       10.0  2021-01-17"
      ]
     },
     "execution_count": 3,
     "metadata": {},
     "output_type": "execute_result"
    }
   ],
   "source": [
    "df=df1[0]\n",
    "df=df[['County','TotalCases','NewCases','TotalDeaths','NewDeaths']] #select the column with data only\n",
    "date = date.today()\n",
    "df['Date'] = date # adding the date column\n",
    "df=df[1:] # drop the first row\n",
    "df.head()\n"
   ]
  },
  {
   "cell_type": "code",
   "execution_count": null,
   "metadata": {},
   "outputs": [],
   "source": []
  }
 ],
 "metadata": {
  "kernelspec": {
   "display_name": "Python 3",
   "language": "python",
   "name": "python3"
  },
  "language_info": {
   "codemirror_mode": {
    "name": "ipython",
    "version": 3
   },
   "file_extension": ".py",
   "mimetype": "text/x-python",
   "name": "python",
   "nbconvert_exporter": "python",
   "pygments_lexer": "ipython3",
   "version": "3.8.5"
  }
 },
 "nbformat": 4,
 "nbformat_minor": 4
}
